{
 "cells": [
  {
   "cell_type": "code",
   "execution_count": 37,
   "metadata": {},
   "outputs": [],
   "source": [
    "import spacy"
   ]
  },
  {
   "cell_type": "markdown",
   "metadata": {},
   "source": [
    "# source"
   ]
  },
  {
   "cell_type": "code",
   "execution_count": 38,
   "metadata": {},
   "outputs": [],
   "source": [
    "# load text from file\n",
    "def load_text(file_path, encoding='UTF-8'):\n",
    "    \n",
    "    docs = []\n",
    "    with open(file_path, 'r', encoding=encoding) as f:\n",
    "        for line in f:\n",
    "            docs.append(line.strip())\n",
    "    \n",
    "    return docs"
   ]
  },
  {
   "cell_type": "code",
   "execution_count": 39,
   "metadata": {},
   "outputs": [],
   "source": [
    "# remove duplicate pair\n",
    "def pair_deduplicate(doc_left, doc_right):\n",
    "    \n",
    "    doc_left_clean = []\n",
    "    doc_right_clean = []\n",
    "    \n",
    "    # already exist\n",
    "    doc_contain = set()\n",
    "    \n",
    "    for dl, dr in zip(doc_left, doc_right):\n",
    "        if (dl not in doc_contain) and (dr not in doc_contain):\n",
    "            doc_left_clean.append(dl)\n",
    "            doc_right_clean.append(dr)\n",
    "        \n",
    "        doc_contain.add(dl)\n",
    "        doc_contain.add(dr)\n",
    "        \n",
    "    print('remove duplicate from langauge pair')\n",
    "    print('from {0} to {1}'.format(len(doc_left), len(doc_left_clean)))\n",
    "    \n",
    "    return doc_left_clean, doc_right_clean"
   ]
  },
  {
   "cell_type": "code",
   "execution_count": 40,
   "metadata": {},
   "outputs": [],
   "source": [
    "# remove mislength pair\n",
    "def pair_mislength(doc_left, doc_right, ratio=2):\n",
    "    \n",
    "    doc_left_clean = []\n",
    "    doc_right_clean = []\n",
    "    \n",
    "    for dl, dr in zip(doc_left, doc_right):\n",
    "        \n",
    "        ll = len(dl.split())\n",
    "        lr = len(dr.split())\n",
    "        \n",
    "        if (ll < lr*ratio) and (lr < ll*ratio):\n",
    "            doc_left_clean.append(dl)\n",
    "            doc_right_clean.append(dr)\n",
    "        elif (ll < 4 or lr < 4) and (abs(ll-lr) < 4):\n",
    "            doc_left_clean.append(dl)\n",
    "            doc_right_clean.append(dr)\n",
    "        \n",
    "    print('remove mislength from langauge pair')\n",
    "    print('from {0} to {1}'.format(len(doc_left), len(doc_left_clean)))\n",
    "    \n",
    "    return doc_left_clean, doc_right_clean"
   ]
  },
  {
   "cell_type": "code",
   "execution_count": null,
   "metadata": {},
   "outputs": [],
   "source": [
    "# remove mislang pair\n",
    "def pair_mislang(doc_left, doc_right, lang_left, lang_right):\n",
    "    \n",
    "    doc_left_clean = []\n",
    "    doc_right_clean = []\n",
    "    \n",
    "    return doc_left_clean, doc_right_clean"
   ]
  },
  {
   "cell_type": "markdown",
   "metadata": {},
   "source": [
    "# europarl"
   ]
  },
  {
   "cell_type": "code",
   "execution_count": 41,
   "metadata": {},
   "outputs": [],
   "source": [
    "europarl_en = load_text('./data/raw/europarl/europarl-v7.fr-en.en')\n",
    "europarl_fr = load_text('./data/raw/europarl/europarl-v7.fr-en.fr')"
   ]
  },
  {
   "cell_type": "code",
   "execution_count": 42,
   "metadata": {},
   "outputs": [
    {
     "name": "stdout",
     "output_type": "stream",
     "text": [
      "remove duplicate from langauge pair\n",
      "from 2007723 to 1943690\n",
      "remove mislength from langauge pair\n",
      "from 1943690 to 1931643\n"
     ]
    }
   ],
   "source": [
    "temp_en, temp_fr = pair_deduplicate(europarl_en, europarl_fr)\n",
    "temp_en, temp_fr = pair_mislength(temp_en, temp_fr)"
   ]
  },
  {
   "cell_type": "code",
   "execution_count": null,
   "metadata": {},
   "outputs": [],
   "source": []
  },
  {
   "cell_type": "markdown",
   "metadata": {},
   "source": [
    "# tatoeba"
   ]
  },
  {
   "cell_type": "code",
   "execution_count": null,
   "metadata": {},
   "outputs": [],
   "source": []
  },
  {
   "cell_type": "code",
   "execution_count": null,
   "metadata": {},
   "outputs": [],
   "source": []
  },
  {
   "cell_type": "code",
   "execution_count": null,
   "metadata": {},
   "outputs": [],
   "source": []
  },
  {
   "cell_type": "code",
   "execution_count": null,
   "metadata": {},
   "outputs": [],
   "source": []
  }
 ],
 "metadata": {
  "kernelspec": {
   "display_name": "Python 3",
   "language": "python",
   "name": "python3"
  },
  "language_info": {
   "codemirror_mode": {
    "name": "ipython",
    "version": 3
   },
   "file_extension": ".py",
   "mimetype": "text/x-python",
   "name": "python",
   "nbconvert_exporter": "python",
   "pygments_lexer": "ipython3",
   "version": "3.6.3"
  }
 },
 "nbformat": 4,
 "nbformat_minor": 2
}
